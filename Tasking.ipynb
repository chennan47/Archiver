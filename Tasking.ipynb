{
 "metadata": {
  "name": "",
  "signature": "sha256:48aaaa2ea22d2ca305f68d011062d262155af300dc6d8a5e9b0cd65bac7064e1"
 },
 "nbformat": 3,
 "nbformat_minor": 0,
 "worksheets": [
  {
   "cells": [
    {
     "cell_type": "code",
     "collapsed": false,
     "input": [
      "import requests\n",
      "import json\n",
      "from registerer import celery\n",
      "from registerer.tasks import *"
     ],
     "language": "python",
     "metadata": {},
     "outputs": [],
     "prompt_number": 20
    },
    {
     "cell_type": "code",
     "collapsed": false,
     "input": [
      "headers = {'Content-type': 'application/json', 'Accept': 'text/plain'}\n",
      "node = {\n",
      "    \"node\": {\n",
      "        \"metadata\": {\n",
      "            \"id\": \"12345\",\n",
      "            \"title\": \"example project\",\n",
      "            \"description\": \"\",\n",
      "            \"contributors\": [\n",
      "                \"john smith\"\n",
      "            ]\n",
      "        },\n",
      "        \"addons\": [\n",
      "            {\n",
      "                \"github\": {\n",
      "                    \"access_token\": \"some secret key\",\n",
      "                    \"repo\": \"registerer\",\n",
      "                    \"user\": \"chrisseto\"\n",
      "                }\n",
      "            }\n",
      "        ],\n",
      "        \"children\": []\n",
      "    }\n",
      "}\n"
     ],
     "language": "python",
     "metadata": {},
     "outputs": [],
     "prompt_number": 26
    },
    {
     "cell_type": "code",
     "collapsed": false,
     "input": [
      "ret = requests.post('http://localhost:7000', data=json.dumps(node), headers=headers)\n",
      "ret.text"
     ],
     "language": "python",
     "metadata": {},
     "outputs": [
      {
       "metadata": {},
       "output_type": "pyout",
       "prompt_number": 43,
       "text": [
        "u'{\\n  \"response\": {\\n    \"date\": \"Thu, 08 May 2014 15:28:26 GMT\",\\n    \"id\": \"12345\",\\n    \"status\": \"SUCCESS\"\\n  }\\n}'"
       ]
      }
     ],
     "prompt_number": 43
    },
    {
     "cell_type": "code",
     "collapsed": false,
     "input": [],
     "language": "python",
     "metadata": {},
     "outputs": []
    }
   ],
   "metadata": {}
  }
 ]
}