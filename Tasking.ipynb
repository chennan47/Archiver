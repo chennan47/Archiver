{
 "metadata": {
  "name": "",
  "signature": "sha256:25ac96e6e3b2b33c574c1f56abd9ab2e8b703cc9c3a0aa572a980c7686d66f58"
 },
 "nbformat": 3,
 "nbformat_minor": 0,
 "worksheets": [
  {
   "cells": [
    {
     "cell_type": "code",
     "collapsed": false,
     "input": [
      "import copy\n",
      "import json\n",
      "import requests\n",
      "from registerer import celery\n",
      "from registerer.tasks import *"
     ],
     "language": "python",
     "metadata": {},
     "outputs": [],
     "prompt_number": 1
    },
    {
     "cell_type": "code",
     "collapsed": false,
     "input": [
      "headers = {'Content-type': 'application/json', 'Accept': 'text/plain'}\n",
      "node = {\n",
      "    \"node\": {\n",
      "        \"metadata\": {\n",
      "            \"id\": \"12345\",\n",
      "            \"title\": \"example project\",\n",
      "            \"description\": \"\",\n",
      "            \"contributors\": [\n",
      "                \"john smith\"\n",
      "            ]\n",
      "        },\n",
      "        \"addons\": [\n",
      "            {\n",
      "                \"github\": {\n",
      "                    \"access_token\": \"some secret key\",\n",
      "                    \"repo\": \"registerer\",\n",
      "                    \"user\": \"chrisseto\"\n",
      "                }\n",
      "            }\n",
      "        ],\n",
      "        \"children\": []\n",
      "    }\n",
      "}\n",
      "node['node']['children'].append(copy.deepcopy(node))"
     ],
     "language": "python",
     "metadata": {},
     "outputs": [],
     "prompt_number": 25
    },
    {
     "cell_type": "code",
     "collapsed": false,
     "input": [
      "ret = requests.post('http://localhost:7000', data=json.dumps(node), headers=headers)\n",
      "ret.text"
     ],
     "language": "python",
     "metadata": {},
     "outputs": [
      {
       "metadata": {},
       "output_type": "pyout",
       "prompt_number": 28,
       "text": [
        "u'{\\n  \"response\": {\\n    \"date\": \"Fri, 09 May 2014 12:27:52 GMT\",\\n    \"id\": \"12345\",\\n    \"status\": \"SUCCESS\"\\n  }\\n}'"
       ]
      }
     ],
     "prompt_number": 28
    },
    {
     "cell_type": "code",
     "collapsed": false,
     "input": [
      "ls 12345"
     ],
     "language": "python",
     "metadata": {},
     "outputs": [
      {
       "output_type": "stream",
       "stream": "stdout",
       "text": [
        "ls: 12345: No such file or directory\r\n"
       ]
      }
     ],
     "prompt_number": 22
    },
    {
     "cell_type": "code",
     "collapsed": false,
     "input": [
      "cat 12345/metadata.json"
     ],
     "language": "python",
     "metadata": {},
     "outputs": [
      {
       "output_type": "stream",
       "stream": "stdout",
       "text": [
        "{\"registered_on\": \"2014-05-08 16:20:43.747054\", \"description\": \"\", \"id\": \"12345\", \"contributors\": [\"john smith\"], \"title\": \"example project\"}"
       ]
      }
     ],
     "prompt_number": 107
    },
    {
     "cell_type": "code",
     "collapsed": false,
     "input": [],
     "language": "python",
     "metadata": {},
     "outputs": []
    }
   ],
   "metadata": {}
  }
 ]
}