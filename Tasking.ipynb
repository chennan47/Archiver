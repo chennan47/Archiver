{
 "metadata": {
  "name": "",
  "signature": "sha256:501d2d44986fc971f0d04d099ded9b9a821314622c2ff9ff951a6be0831252f7"
 },
 "nbformat": 3,
 "nbformat_minor": 0,
 "worksheets": [
  {
   "cells": [
    {
     "cell_type": "code",
     "collapsed": false,
     "input": [
      "import copy\n",
      "import json\n",
      "import requests\n",
      "from registerer import celery\n",
      "from registerer.tasks import *"
     ],
     "language": "python",
     "metadata": {},
     "outputs": [],
     "prompt_number": 58
    },
    {
     "cell_type": "code",
     "collapsed": false,
     "input": [
      "headers = {'Content-type': 'application/json', 'Accept': 'text/plain'}\n",
      "node = {\n",
      "    \"node\": {\n",
      "        \"metadata\": {\n",
      "            \"id\": \"12345\",\n",
      "            \"title\": \"example project\",\n",
      "            \"description\": \"\",\n",
      "            \"contributors\": [\n",
      "                \"john smith\"\n",
      "            ]\n",
      "        },\n",
      "        \"addons\": [\n",
      "            {\n",
      "                \"github\": {\n",
      "                    \"access_token\": \"some secret key\",\n",
      "                    \"repo\": \"registerer\",\n",
      "                    \"user\": \"chrisseto\"\n",
      "                }\n",
      "            }\n",
      "        ],\n",
      "        \"children\": []\n",
      "    }\n",
      "}\n",
      "node['node']['children'].append(copy.deepcopy(node))"
     ],
     "language": "python",
     "metadata": {},
     "outputs": [],
     "prompt_number": 93
    },
    {
     "cell_type": "code",
     "collapsed": false,
     "input": [
      "ret = requests.post('http://localhost:7000', data=json.dumps(node), headers=headers)\n",
      "ret.text"
     ],
     "language": "python",
     "metadata": {},
     "outputs": [
      {
       "metadata": {},
       "output_type": "pyout",
       "prompt_number": 94,
       "text": [
        "u'{\\n  \"response\": {\\n    \"date\": \"Thu, 08 May 2014 16:20:43 GMT\",\\n    \"id\": \"12345\",\\n    \"status\": \"SUCCESS\"\\n  }\\n}'"
       ]
      }
     ],
     "prompt_number": 94
    },
    {
     "cell_type": "code",
     "collapsed": false,
     "input": [
      "find 12345"
     ],
     "language": "python",
     "metadata": {},
     "outputs": [
      {
       "ename": "SyntaxError",
       "evalue": "invalid syntax (<ipython-input-102-6f8b1e450860>, line 1)",
       "output_type": "pyerr",
       "traceback": [
        "\u001b[0;36m  File \u001b[0;32m\"<ipython-input-102-6f8b1e450860>\"\u001b[0;36m, line \u001b[0;32m1\u001b[0m\n\u001b[0;31m    find 12345\u001b[0m\n\u001b[0m             ^\u001b[0m\n\u001b[0;31mSyntaxError\u001b[0m\u001b[0;31m:\u001b[0m invalid syntax\n"
       ]
      }
     ],
     "prompt_number": 102
    },
    {
     "cell_type": "code",
     "collapsed": false,
     "input": [],
     "language": "python",
     "metadata": {},
     "outputs": []
    }
   ],
   "metadata": {}
  }
 ]
}