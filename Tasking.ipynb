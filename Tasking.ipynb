{
 "metadata": {
  "name": "",
  "signature": "sha256:042ea16988596b305a5d01bafbd28e0f933b885a33e699fc65d608a6f98217c9"
 },
 "nbformat": 3,
 "nbformat_minor": 0,
 "worksheets": [
  {
   "cells": [
    {
     "cell_type": "code",
     "collapsed": false,
     "input": [
      "import copy\n",
      "import json\n",
      "import string\n",
      "import random\n",
      "import requests"
     ],
     "language": "python",
     "metadata": {},
     "outputs": [],
     "prompt_number": 19
    },
    {
     "cell_type": "code",
     "collapsed": false,
     "input": [
      "id = ''.join(random.choice(string.ascii_uppercase + string.digits) for _ in range(5))"
     ],
     "language": "python",
     "metadata": {},
     "outputs": [],
     "prompt_number": 23
    },
    {
     "cell_type": "code",
     "collapsed": false,
     "input": [
      "headers = {'Content-type': 'application/json', 'Accept': 'text/plain'}\n",
      "node = {\n",
      "    \"node\": {\n",
      "        \"metadata\": {\n",
      "            \"id\": id,\n",
      "            \"title\": \"example project\",\n",
      "            \"description\": \"\",\n",
      "            \"contributors\": [\n",
      "                \"john smith\"\n",
      "            ]\n",
      "        },\n",
      "        \"addons\": [\n",
      "            {\n",
      "                \"github\": {\n",
      "                    \"access_token\": \"some secret key\",\n",
      "                    \"repo\": \"Open-Pokemon\",\n",
      "                    \"user\": \"chrisseto\"\n",
      "                }\n",
      "            }\n",
      "        ],\n",
      "        \"children\": []\n",
      "    }\n",
      "}\n",
      "node['node']['children'].append(copy.deepcopy(node))"
     ],
     "language": "python",
     "metadata": {},
     "outputs": [],
     "prompt_number": 24
    },
    {
     "cell_type": "code",
     "collapsed": false,
     "input": [
      "ret = requests.post('http://localhost:7000', data=json.dumps(node), headers=headers)\n",
      "json.loads(ret.text)"
     ],
     "language": "python",
     "metadata": {},
     "outputs": [
      {
       "metadata": {},
       "output_type": "pyout",
       "prompt_number": 25,
       "text": [
        "{u'response': {u'date': u'Wed, 14 May 2014 13:43:07 GMT',\n",
        "  u'id': u'2UV7X',\n",
        "  u'status': u'STARTED'}}"
       ]
      }
     ],
     "prompt_number": 25
    },
    {
     "cell_type": "code",
     "collapsed": false,
     "input": [],
     "language": "python",
     "metadata": {},
     "outputs": []
    }
   ],
   "metadata": {}
  }
 ]
}